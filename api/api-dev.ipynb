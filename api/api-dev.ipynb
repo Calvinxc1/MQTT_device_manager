{
 "cells": [
  {
   "cell_type": "code",
   "execution_count": 3,
   "id": "20f834b4-3d07-4ad9-8121-12ab002afc34",
   "metadata": {},
   "outputs": [],
   "source": [
    "from src.init_spec import init_spec\n",
    "from pathlib import Path"
   ]
  },
  {
   "cell_type": "code",
   "execution_count": 4,
   "id": "d9e254b3-11ad-474e-a617-871a86a5458d",
   "metadata": {},
   "outputs": [],
   "source": [
    "spec_path = Path('./spec/_root.yml')"
   ]
  },
  {
   "cell_type": "code",
   "execution_count": 5,
   "id": "bb356009-eb8e-4495-8f44-e533bf4d4acb",
   "metadata": {},
   "outputs": [],
   "source": [
    "spec = init_spec(spec_path)"
   ]
  },
  {
   "cell_type": "code",
   "execution_count": 6,
   "id": "1e16182e-6b2a-4ee7-9955-f55cea1d9339",
   "metadata": {},
   "outputs": [
    {
     "data": {
      "text/plain": [
       "SpecPath('')"
      ]
     },
     "execution_count": 6,
     "metadata": {},
     "output_type": "execute_result"
    }
   ],
   "source": [
    "spec"
   ]
  },
  {
   "cell_type": "code",
   "execution_count": null,
   "id": "a8d00748-4ac4-412f-9629-3f6383ffffb4",
   "metadata": {},
   "outputs": [],
   "source": []
  }
 ],
 "metadata": {
  "kernelspec": {
   "display_name": "Python [conda env:dev]",
   "language": "python",
   "name": "conda-env-dev-py"
  },
  "language_info": {
   "codemirror_mode": {
    "name": "ipython",
    "version": 3
   },
   "file_extension": ".py",
   "mimetype": "text/x-python",
   "name": "python",
   "nbconvert_exporter": "python",
   "pygments_lexer": "ipython3",
   "version": "3.10.4"
  }
 },
 "nbformat": 4,
 "nbformat_minor": 5
}
